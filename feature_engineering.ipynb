{
 "cells": [
  {
   "cell_type": "markdown",
   "metadata": {},
   "source": [
    "## Data Preprocessing"
   ]
  },
  {
   "cell_type": "code",
   "execution_count": 21,
   "metadata": {},
   "outputs": [],
   "source": [
    "import pandas as pd\n",
    "from sklearn.model_selection import train_test_split\n",
    "from sklearn.preprocessing import StandardScaler, LabelEncoder\n",
    "import joblib"
   ]
  },
  {
   "cell_type": "code",
   "execution_count": 22,
   "metadata": {},
   "outputs": [],
   "source": [
    "# Load the dataset\n",
    "data = pd.read_excel('data/space_traffic.xlsx')"
   ]
  },
  {
   "cell_type": "code",
   "execution_count": 23,
   "metadata": {},
   "outputs": [
    {
     "name": "stdout",
     "output_type": "stream",
     "text": [
      "Timestamp          0\n",
      "Location           0\n",
      "Object_Type        0\n",
      "Traffic_Density    0\n",
      "Peak_Time          0\n",
      "dtype: int64\n"
     ]
    }
   ],
   "source": [
    "# Check for missing values in the dataset\n",
    "missing_values = data.isnull().sum()\n",
    "\n",
    "# Display the missing values count for each column\n",
    "print(missing_values)"
   ]
  },
  {
   "cell_type": "code",
   "execution_count": 24,
   "metadata": {},
   "outputs": [],
   "source": [
    "# Clean column names by stripping any extra spaces or special characters\n",
    "data.columns = data.columns.str.strip()"
   ]
  },
  {
   "cell_type": "code",
   "execution_count": 25,
   "metadata": {},
   "outputs": [],
   "source": [
    "# Convert 'Timestamp' to datetime format\n",
    "data['Timestamp'] = pd.to_datetime(data['Timestamp'], errors='coerce')\n",
    "\n",
    "# Extract Year, Month, Day, and Time from the Timestamp\n",
    "data['Year'] = data['Timestamp'].dt.year\n",
    "data['Month'] = data['Timestamp'].dt.month\n",
    "data['Day'] = data['Timestamp'].dt.day\n",
    "data['Time'] = data['Timestamp'].dt.strftime('%H:%M:%S')"
   ]
  },
  {
   "cell_type": "code",
   "execution_count": 26,
   "metadata": {},
   "outputs": [],
   "source": [
    "# One-hot encoding on 'Object_Type'\n",
    "data_encoded = pd.get_dummies(data, columns=['Object_Type'], drop_first=False)\n",
    "data_encoded['Object_Type'] = data['Object_Type']\n",
    "data = data_encoded.copy()"
   ]
  },
  {
   "cell_type": "code",
   "execution_count": 27,
   "metadata": {},
   "outputs": [
    {
     "name": "stdout",
     "output_type": "stream",
     "text": [
      "                Location  Location_Encoded\n",
      "0      Lagrange Point L2                 1\n",
      "1              Orbit LEO                 4\n",
      "2              Orbit LEO                 4\n",
      "3    Mars Transfer Orbit                 2\n",
      "4      Lagrange Point L1                 0\n",
      "..                   ...               ...\n",
      "995            Orbit MEO                 5\n",
      "996    Lagrange Point L1                 0\n",
      "997            Orbit MEO                 5\n",
      "998    Lagrange Point L2                 1\n",
      "999    Lagrange Point L2                 1\n",
      "\n",
      "[1000 rows x 2 columns]\n",
      "\n",
      "Label Mapping:\n",
      "{'Lagrange Point L1': np.int64(0), 'Lagrange Point L2': np.int64(1), 'Mars Transfer Orbit': np.int64(2), 'Orbit GEO': np.int64(3), 'Orbit LEO': np.int64(4), 'Orbit MEO': np.int64(5)}\n",
      "Label Encoder saved successfully.\n"
     ]
    }
   ],
   "source": [
    "# Label Encoding on 'Location'\n",
    "label_encoder = LabelEncoder()\n",
    "\n",
    "# Fit the label encoder and transform the 'Location' column\n",
    "data['Location_Encoded'] = label_encoder.fit_transform(data['Location'])\n",
    "\n",
    "# Check the encoded data and label mapping\n",
    "label_mapping = dict(zip(label_encoder.classes_, label_encoder.transform(label_encoder.classes_)))\n",
    "\n",
    "print(data[['Location', 'Location_Encoded']])\n",
    "print(\"\\nLabel Mapping:\")\n",
    "print(label_mapping)\n",
    "\n",
    "# Save the LabelEncoder object \n",
    "joblib.dump(label_encoder, 'model/label_encoder.joblib')\n",
    "\n",
    "print(\"Label Encoder saved successfully.\")\n"
   ]
  },
  {
   "cell_type": "code",
   "execution_count": 28,
   "metadata": {},
   "outputs": [
    {
     "data": {
      "text/html": [
       "<div>\n",
       "<style scoped>\n",
       "    .dataframe tbody tr th:only-of-type {\n",
       "        vertical-align: middle;\n",
       "    }\n",
       "\n",
       "    .dataframe tbody tr th {\n",
       "        vertical-align: top;\n",
       "    }\n",
       "\n",
       "    .dataframe thead th {\n",
       "        text-align: right;\n",
       "    }\n",
       "</style>\n",
       "<table border=\"1\" class=\"dataframe\">\n",
       "  <thead>\n",
       "    <tr style=\"text-align: right;\">\n",
       "      <th></th>\n",
       "      <th>Timestamp</th>\n",
       "      <th>Location</th>\n",
       "      <th>Traffic_Density</th>\n",
       "      <th>Peak_Time</th>\n",
       "      <th>Year</th>\n",
       "      <th>Month</th>\n",
       "      <th>Day</th>\n",
       "      <th>Time</th>\n",
       "      <th>Object_Type_Asteroid Mining Ship</th>\n",
       "      <th>Object_Type_Manned Spacecraft</th>\n",
       "      <th>Object_Type_Satellite</th>\n",
       "      <th>Object_Type_Scientific Probe</th>\n",
       "      <th>Object_Type_Space Debris</th>\n",
       "      <th>Object_Type_Space Station</th>\n",
       "      <th>Object_Type</th>\n",
       "      <th>Location_Encoded</th>\n",
       "    </tr>\n",
       "  </thead>\n",
       "  <tbody>\n",
       "    <tr>\n",
       "      <th>0</th>\n",
       "      <td>2024-10-21 21:00:00</td>\n",
       "      <td>Lagrange Point L2</td>\n",
       "      <td>17</td>\n",
       "      <td>15:00:00</td>\n",
       "      <td>2024</td>\n",
       "      <td>10</td>\n",
       "      <td>21</td>\n",
       "      <td>21:00:00</td>\n",
       "      <td>False</td>\n",
       "      <td>False</td>\n",
       "      <td>False</td>\n",
       "      <td>False</td>\n",
       "      <td>False</td>\n",
       "      <td>True</td>\n",
       "      <td>Space Station</td>\n",
       "      <td>1</td>\n",
       "    </tr>\n",
       "    <tr>\n",
       "      <th>1</th>\n",
       "      <td>2024-10-11 05:00:00</td>\n",
       "      <td>Orbit LEO</td>\n",
       "      <td>21</td>\n",
       "      <td>15:00:00</td>\n",
       "      <td>2024</td>\n",
       "      <td>10</td>\n",
       "      <td>11</td>\n",
       "      <td>05:00:00</td>\n",
       "      <td>False</td>\n",
       "      <td>False</td>\n",
       "      <td>True</td>\n",
       "      <td>False</td>\n",
       "      <td>False</td>\n",
       "      <td>False</td>\n",
       "      <td>Satellite</td>\n",
       "      <td>4</td>\n",
       "    </tr>\n",
       "    <tr>\n",
       "      <th>2</th>\n",
       "      <td>2024-10-29 13:00:00</td>\n",
       "      <td>Orbit LEO</td>\n",
       "      <td>88</td>\n",
       "      <td>06:00:00</td>\n",
       "      <td>2024</td>\n",
       "      <td>10</td>\n",
       "      <td>29</td>\n",
       "      <td>13:00:00</td>\n",
       "      <td>False</td>\n",
       "      <td>False</td>\n",
       "      <td>False</td>\n",
       "      <td>False</td>\n",
       "      <td>False</td>\n",
       "      <td>True</td>\n",
       "      <td>Space Station</td>\n",
       "      <td>4</td>\n",
       "    </tr>\n",
       "    <tr>\n",
       "      <th>3</th>\n",
       "      <td>2024-10-24 08:00:00</td>\n",
       "      <td>Mars Transfer Orbit</td>\n",
       "      <td>65</td>\n",
       "      <td>08:00:00</td>\n",
       "      <td>2024</td>\n",
       "      <td>10</td>\n",
       "      <td>24</td>\n",
       "      <td>08:00:00</td>\n",
       "      <td>False</td>\n",
       "      <td>False</td>\n",
       "      <td>False</td>\n",
       "      <td>True</td>\n",
       "      <td>False</td>\n",
       "      <td>False</td>\n",
       "      <td>Scientific Probe</td>\n",
       "      <td>2</td>\n",
       "    </tr>\n",
       "    <tr>\n",
       "      <th>4</th>\n",
       "      <td>2024-10-23 17:00:00</td>\n",
       "      <td>Lagrange Point L1</td>\n",
       "      <td>9</td>\n",
       "      <td>06:00:00</td>\n",
       "      <td>2024</td>\n",
       "      <td>10</td>\n",
       "      <td>23</td>\n",
       "      <td>17:00:00</td>\n",
       "      <td>False</td>\n",
       "      <td>False</td>\n",
       "      <td>False</td>\n",
       "      <td>False</td>\n",
       "      <td>False</td>\n",
       "      <td>True</td>\n",
       "      <td>Space Station</td>\n",
       "      <td>0</td>\n",
       "    </tr>\n",
       "  </tbody>\n",
       "</table>\n",
       "</div>"
      ],
      "text/plain": [
       "            Timestamp             Location  Traffic_Density Peak_Time  Year  \\\n",
       "0 2024-10-21 21:00:00    Lagrange Point L2               17  15:00:00  2024   \n",
       "1 2024-10-11 05:00:00            Orbit LEO               21  15:00:00  2024   \n",
       "2 2024-10-29 13:00:00            Orbit LEO               88  06:00:00  2024   \n",
       "3 2024-10-24 08:00:00  Mars Transfer Orbit               65  08:00:00  2024   \n",
       "4 2024-10-23 17:00:00    Lagrange Point L1                9  06:00:00  2024   \n",
       "\n",
       "   Month  Day      Time  Object_Type_Asteroid Mining Ship  \\\n",
       "0     10   21  21:00:00                             False   \n",
       "1     10   11  05:00:00                             False   \n",
       "2     10   29  13:00:00                             False   \n",
       "3     10   24  08:00:00                             False   \n",
       "4     10   23  17:00:00                             False   \n",
       "\n",
       "   Object_Type_Manned Spacecraft  Object_Type_Satellite  \\\n",
       "0                          False                  False   \n",
       "1                          False                   True   \n",
       "2                          False                  False   \n",
       "3                          False                  False   \n",
       "4                          False                  False   \n",
       "\n",
       "   Object_Type_Scientific Probe  Object_Type_Space Debris  \\\n",
       "0                         False                     False   \n",
       "1                         False                     False   \n",
       "2                         False                     False   \n",
       "3                          True                     False   \n",
       "4                         False                     False   \n",
       "\n",
       "   Object_Type_Space Station       Object_Type  Location_Encoded  \n",
       "0                       True     Space Station                 1  \n",
       "1                      False         Satellite                 4  \n",
       "2                       True     Space Station                 4  \n",
       "3                      False  Scientific Probe                 2  \n",
       "4                       True     Space Station                 0  "
      ]
     },
     "execution_count": 28,
     "metadata": {},
     "output_type": "execute_result"
    }
   ],
   "source": [
    "data.head()"
   ]
  },
  {
   "cell_type": "code",
   "execution_count": 29,
   "metadata": {},
   "outputs": [
    {
     "data": {
      "text/plain": [
       "(1000, 16)"
      ]
     },
     "execution_count": 29,
     "metadata": {},
     "output_type": "execute_result"
    }
   ],
   "source": [
    "data.shape"
   ]
  },
  {
   "cell_type": "code",
   "execution_count": 30,
   "metadata": {},
   "outputs": [],
   "source": [
    "data.to_excel('data/processed_data.xlsx')"
   ]
  }
 ],
 "metadata": {
  "kernelspec": {
   "display_name": "Python 3",
   "language": "python",
   "name": "python3"
  },
  "language_info": {
   "codemirror_mode": {
    "name": "ipython",
    "version": 3
   },
   "file_extension": ".py",
   "mimetype": "text/x-python",
   "name": "python",
   "nbconvert_exporter": "python",
   "pygments_lexer": "ipython3",
   "version": "3.12.3"
  }
 },
 "nbformat": 4,
 "nbformat_minor": 2
}
